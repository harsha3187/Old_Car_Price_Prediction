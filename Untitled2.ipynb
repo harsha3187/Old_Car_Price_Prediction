{
 "cells": [
  {
   "cell_type": "code",
   "execution_count": 4,
   "metadata": {},
   "outputs": [],
   "source": [
    "import pandas as pd\n",
    "train_data3  = pd.read_excel('Data_Train.xlsx')\n",
    "train_data_1 = train_data3[train_data3.Kilometers_Driven<6499999].copy()\n",
    "brand_name=[]\n",
    "model_name=[]\n",
    "version=[]\n",
    "for i,j in train_data_1.iterrows():\n",
    "    brand_name.append(j['Name'].split()[0].lower())\n",
    "    model_name.append(\"\".join(j['Name'].split()[1:3]).lower())\n",
    "    version.append(\"\".join(j['Name'].split()[2:]).lower())\n",
    "    #print(j['Name'].split()[0],\" \",j['Name'].split()[1],\" \",\"\".join(j['Name'].split()[2:]))\n",
    "train_data_1['Brand'] = brand_name\n",
    "train_data_1['Model'] = model_name\n",
    "train_data_1['Version'] = version\n",
    "#train_data['is_19']=train_data.Year.apply(lambda x: 1 if x<2000 else 0)\n",
    "train_data_1['Year_Modified'] = train_data_1.Year.apply(lambda x: 2019-x)\n",
    "train_data_1 = train_data_1.sort_values(by=['Name'])\n",
    "#train_data[\"Price\"] = train_data[\"Price\"].apply(np.log)"
   ]
  },
  {
   "cell_type": "code",
   "execution_count": 5,
   "metadata": {},
   "outputs": [],
   "source": [
    "import pandas as pd\n",
    "train_data2  = pd.read_excel('Data_Test.xlsx')\n",
    "train_data = train_data2[train_data2.Kilometers_Driven<6499999].copy()\n",
    "brand_name=[]\n",
    "model_name=[]\n",
    "version=[]\n",
    "for i,j in train_data.iterrows():\n",
    "    brand_name.append(j['Name'].split()[0].lower())\n",
    "    model_name.append(\"\".join(j['Name'].split()[1:3]).lower())\n",
    "    version.append(\"\".join(j['Name'].split()[2:]).lower())\n",
    "    #print(j['Name'].split()[0],\" \",j['Name'].split()[1],\" \",\"\".join(j['Name'].split()[2:]))\n",
    "train_data['Brand'] = brand_name\n",
    "train_data['Model'] = model_name\n",
    "train_data['Version'] = version\n",
    "#train_data['is_19']=train_data.Year.apply(lambda x: 1 if x<2000 else 0)\n",
    "train_data['Year_Modified'] = train_data.Year.apply(lambda x: 2019-x)\n",
    "train_data = train_data.sort_values(by=['Name'])\n",
    "#train_data[\"Price\"] = train_data[\"Price\"].apply(np.log)"
   ]
  },
  {
   "cell_type": "code",
   "execution_count": 7,
   "metadata": {},
   "outputs": [
    {
     "ename": "TypeError",
     "evalue": "transform() got an unexpected keyword argument 'new_labels'",
     "output_type": "error",
     "traceback": [
      "\u001b[1;31m---------------------------------------------------------------------------\u001b[0m",
      "\u001b[1;31mTypeError\u001b[0m                                 Traceback (most recent call last)",
      "\u001b[1;32m<ipython-input-7-418d8c36576c>\u001b[0m in \u001b[0;36m<module>\u001b[1;34m\u001b[0m\n\u001b[0;32m      2\u001b[0m \u001b[0mle\u001b[0m \u001b[1;33m=\u001b[0m \u001b[0mpreprocessing\u001b[0m\u001b[1;33m.\u001b[0m\u001b[0mLabelEncoder\u001b[0m\u001b[1;33m(\u001b[0m\u001b[1;33m)\u001b[0m\u001b[1;33m\u001b[0m\u001b[1;33m\u001b[0m\u001b[0m\n\u001b[0;32m      3\u001b[0m \u001b[0mle\u001b[0m\u001b[1;33m.\u001b[0m\u001b[0mfit\u001b[0m\u001b[1;33m(\u001b[0m\u001b[0mtrain_data_1\u001b[0m\u001b[1;33m[\u001b[0m\u001b[1;34m'Brand'\u001b[0m\u001b[1;33m]\u001b[0m\u001b[1;33m)\u001b[0m\u001b[1;33m\u001b[0m\u001b[1;33m\u001b[0m\u001b[0m\n\u001b[1;32m----> 4\u001b[1;33m \u001b[0mtrain_data\u001b[0m\u001b[1;33m[\u001b[0m\u001b[1;34m'Brand_Transformed'\u001b[0m\u001b[1;33m]\u001b[0m  \u001b[1;33m=\u001b[0m \u001b[0mle\u001b[0m\u001b[1;33m.\u001b[0m\u001b[0mtransform\u001b[0m\u001b[1;33m(\u001b[0m\u001b[0mtrain_data\u001b[0m\u001b[1;33m[\u001b[0m\u001b[1;34m'Brand'\u001b[0m\u001b[1;33m]\u001b[0m\u001b[1;33m,\u001b[0m\u001b[0mnew_labels\u001b[0m\u001b[1;33m=\u001b[0m\u001b[1;34m'update'\u001b[0m\u001b[1;33m)\u001b[0m\u001b[1;33m\u001b[0m\u001b[1;33m\u001b[0m\u001b[0m\n\u001b[0m",
      "\u001b[1;31mTypeError\u001b[0m: transform() got an unexpected keyword argument 'new_labels'"
     ]
    }
   ],
   "source": [
    "from sklearn import preprocessing\n",
    "le = preprocessing.LabelEncoder()\n",
    "le.fit(train_data_1['Brand'])\n",
    "train_data['Brand_Transformed']  = le.transform(train_data['Brand'],new_labels='update')"
   ]
  },
  {
   "cell_type": "code",
   "execution_count": null,
   "metadata": {},
   "outputs": [],
   "source": [
    "from sklearn import preprocessing\n",
    "le = preprocessing.LabelEncoder()\n",
    "le.fit(train_data_1['Model'])\n",
    "train_data['Model_Transformed']  = le.transform(train_data['Model'])"
   ]
  },
  {
   "cell_type": "code",
   "execution_count": null,
   "metadata": {},
   "outputs": [],
   "source": [
    "from sklearn import preprocessing\n",
    "le = preprocessing.LabelEncoder()\n",
    "le.fit(train_data_1['Version'])\n",
    "train_data['Version_Transformed']  = le.transform(train_data['Version'])"
   ]
  },
  {
   "cell_type": "code",
   "execution_count": null,
   "metadata": {},
   "outputs": [],
   "source": [
    "from sklearn import preprocessing\n",
    "le = preprocessing.LabelEncoder()\n",
    "le.fit(train_data_1['Location'])\n",
    "train_data['Location_Transformed']  = le.transform(train_data['Location'])"
   ]
  },
  {
   "cell_type": "code",
   "execution_count": null,
   "metadata": {},
   "outputs": [],
   "source": [
    "from sklearn import preprocessing\n",
    "le = preprocessing.LabelEncoder()\n",
    "le.fit(train_data_1['Transmission'])\n",
    "train_data['Transmission_Transformed']  = le.transform(train_data['Transmission'])"
   ]
  },
  {
   "cell_type": "code",
   "execution_count": null,
   "metadata": {},
   "outputs": [],
   "source": [
    "train_data = pd.concat([train_data,pd.get_dummies(train_data['Location'], prefix='Location')],axis=1)\n",
    "train_data = pd.concat([train_data,pd.get_dummies(train_data['Year'], prefix='Year')],axis=1)\n",
    "train_data = pd.concat([train_data,pd.get_dummies(train_data['Transmission'], prefix='Transmission')],axis=1)\n",
    "train_data = pd.concat([train_data,pd.get_dummies(train_data['Fuel_Type'], prefix='Fuel_Type')],axis=1)"
   ]
  },
  {
   "cell_type": "code",
   "execution_count": null,
   "metadata": {},
   "outputs": [],
   "source": [
    "train_data['is_audi_highend']=train_data[['Brand','Price']].apply(lambda x: 1 if ((x['Brand']=='audi') & (x['Price']>45)) else 0,axis=1)\n",
    "train_data['is_bmw_highend']=train_data[['Brand','Price']].apply(lambda x: 1 if ((x['Brand']=='bmw') & (x['Price']>45)) else 0,axis=1)\n",
    "train_data['is_bentley_highend']=train_data[['Brand','Price']].apply(lambda x: 1 if ((x['Brand']=='bentley') & (x['Price']>45)) else 0,axis=1)\n",
    "train_data['is_ford_highend']=train_data[['Brand','Price']].apply(lambda x: 1 if ((x['Brand']=='ford') & (x['Price']>45)) else 0,axis=1)\n",
    "train_data['is_jaguar_highend']=train_data[['Brand','Price']].apply(lambda x: 1 if ((x['Brand']=='jaguar') & (x['Price']>45)) else 0,axis=1)\n",
    "train_data['is_lambhorgini_highend']=train_data[['Brand','Price']].apply(lambda x: 1 if ((x['Brand']=='lamborghini') & (x['Price']>45)) else 0,axis=1)\n",
    "train_data['is_landrover_highend']=train_data[['Brand','Price']].apply(lambda x: 1 if ((x['Brand']=='land') & (x['Price']>45)) else 0,axis=1)\n",
    "train_data['is_benz_highend']=train_data[['Brand','Price']].apply(lambda x: 1 if ((x['Brand']=='benz') & (x['Price']>45)) else 0,axis=1)\n",
    "train_data['is_porsche_highend']=train_data[['Brand','Price']].apply(lambda x: 1 if ((x['Brand']=='porsche') & (x['Price']>45)) else 0,axis=1)\n",
    "# train_data['2000_2005']=train_data.Year.apply(lambda x: 1 if (x>=2000 & x<2005) else 0)\n",
    "# train_data['2005_2010']=train_data.Year.apply(lambda x: 1 if (x>=2005 & x<2010) else 0)\n",
    "# train_data['2010_2015']=train_data.Year.apply(lambda x: 1 if (x>=2010 & x<2015) else 0)\n",
    "# train_data['2015_above']=train_data.Year.apply(lambda x: 1 if x>=2015else 0)\n",
    "train_data['Below_2000']=train_data.Year.apply(lambda x: 1 if x<2000 else 0)\n",
    "train_data['2000_2005']=train_data.Year.apply(lambda x: 1 if (x>=2000 & x<2005) else 0)\n",
    "train_data['2005_2010']=train_data.Year.apply(lambda x: 1 if (x>=2005 & x<2010) else 0)\n",
    "train_data['2010_2015']=train_data.Year.apply(lambda x: 1 if (x>=2010 & x<2015) else 0)\n",
    "train_data['2015_above']=train_data.Year.apply(lambda x: 1 if x>=2015else 0)"
   ]
  },
  {
   "cell_type": "code",
   "execution_count": null,
   "metadata": {},
   "outputs": [],
   "source": [
    "from sklearn.preprocessing import MinMaxScaler\n",
    "for i in ['Kilometers_Driven']:\n",
    "    train_data[i] = MinMaxScaler(feature_range=(0,1)).fit_transform(train_data[i].values.astype(float).reshape(-1,1))"
   ]
  },
  {
   "cell_type": "code",
   "execution_count": null,
   "metadata": {},
   "outputs": [],
   "source": [
    "from sklearn.model_selection import train_test_split\n",
    "data_train_target = train_data['Price']\n",
    "#data_train_final = train_data1['Year']\n",
    "data_train_final = train_data.drop(['Name',\n",
    " 'Location','Version_Transformed','Year_Modified','Fuel_Type','Year','Transmission',\n",
    " 'Transmission_Transformed',\n",
    " 'Owner_Type',\n",
    " 'Mileage',\n",
    " 'Engine',\n",
    " 'Power',\n",
    " 'Seats',\n",
    " 'New_Price',\n",
    " 'Price',\n",
    " 'Brand',\n",
    " 'Model',\n",
    " 'Version',\n",
    " 'Location_Transformed'],axis=1)\n",
    "#X_train, X_test, y_train, y_test = train_test_split(data_train_final, data_train_target, test_size=0.33)"
   ]
  }
 ],
 "metadata": {
  "kernelspec": {
   "display_name": "Python 3",
   "language": "python",
   "name": "python3"
  },
  "language_info": {
   "codemirror_mode": {
    "name": "ipython",
    "version": 3
   },
   "file_extension": ".py",
   "mimetype": "text/x-python",
   "name": "python",
   "nbconvert_exporter": "python",
   "pygments_lexer": "ipython3",
   "version": "3.7.3"
  }
 },
 "nbformat": 4,
 "nbformat_minor": 2
}
