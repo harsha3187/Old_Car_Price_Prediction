{
 "cells": [
  {
   "cell_type": "code",
   "execution_count": 21,
   "metadata": {},
   "outputs": [],
   "source": [
    "data_test = pd.read_excel('Data_Test.xlsx')"
   ]
  },
  {
   "cell_type": "code",
   "execution_count": 22,
   "metadata": {},
   "outputs": [],
   "source": [
    "import pandas as pd\n",
    "brand_name=[]\n",
    "model_name=[]\n",
    "for index, rows in data_test.iterrows():\n",
    "    #print(rows['Name'].split())\n",
    "    brand_name.append(rows['Name'].split()[0].lower().replace('-',''))\n",
    "    model_name.append(rows['Name'].split()[1].lower())"
   ]
  },
  {
   "cell_type": "code",
   "execution_count": 23,
   "metadata": {},
   "outputs": [],
   "source": [
    "data_test['Brand']=brand_name"
   ]
  },
  {
   "cell_type": "code",
   "execution_count": 24,
   "metadata": {},
   "outputs": [
    {
     "name": "stdout",
     "output_type": "stream",
     "text": [
      "Engine  Has Null values count :  10\n",
      "Power  Has Null values count :  10\n",
      "Seats  Has Null values count :  11\n",
      "New_Price  Has Null values count :  1052\n"
     ]
    }
   ],
   "source": [
    "for i in data_test.columns:\n",
    "    if len(data_test[data_test[i].isnull()].index)>0:\n",
    "        print(i,' Has Null values count : ',len(data_test[data_test[i].isnull()].index))"
   ]
  },
  {
   "cell_type": "code",
   "execution_count": 25,
   "metadata": {},
   "outputs": [],
   "source": [
    "data_test['is_electric']=data_test['Fuel_Type'].apply(lambda x: 1 if x=='Electric' else 0)    "
   ]
  },
  {
   "cell_type": "code",
   "execution_count": 26,
   "metadata": {},
   "outputs": [],
   "source": [
    "Mileage_cleaned=[]\n",
    "Engine_cleaned=[]\n",
    "power_cleaned=[]\n",
    "for index, rows in data_test.iterrows():\n",
    "    #print(rows['Name'].split())\n",
    "    try:\n",
    "        Mileage_cleaned.append(rows['Mileage'].split()[0])\n",
    "    except:\n",
    "        Mileage_cleaned.append(0)\n",
    "    try:\n",
    "        Engine_cleaned.append(rows['Engine'].split()[0])\n",
    "    except:\n",
    "        Engine_cleaned.append(0)\n",
    "    try:\n",
    "        if rows['Power'].split()[0]=='null':\n",
    "            power_cleaned.append(0)\n",
    "        else:\n",
    "            power_cleaned.append(rows['Power'].split()[0])\n",
    "    except:\n",
    "        power_cleaned.append(0)\n",
    "    #print(rows['Mileage'].split()[1].lower())"
   ]
  },
  {
   "cell_type": "code",
   "execution_count": 27,
   "metadata": {},
   "outputs": [],
   "source": [
    "data_test['Mileage_cleaned']=Mileage_cleaned\n",
    "data_test.Mileage_cleaned = data_test.Mileage_cleaned.astype(float)\n",
    "data_test['Engine_cleaned']=Engine_cleaned\n",
    "data_test.Engine_cleaned = data_test.Engine_cleaned.astype(float)\n",
    "data_test['Power_cleaned']=power_cleaned\n",
    "data_test.Power_cleaned = data_test.Power_cleaned.astype(float)"
   ]
  },
  {
   "cell_type": "code",
   "execution_count": 28,
   "metadata": {},
   "outputs": [],
   "source": [
    "Mileage_missing=[]\n",
    "for i,j in data_test[(data_test['Mileage_cleaned']==0)].iterrows():\n",
    "    if j.Engine_cleaned!=0:\n",
    "        if j.Power_cleaned!=0:\n",
    "            Mileage_missing.append(data_test[(data_test.Power_cleaned.between(j.Power_cleaned-50,j.Power_cleaned+50)) & (data_test.Engine_cleaned.between(j.Engine_cleaned-100,j.Engine_cleaned+100))]['Mileage_cleaned'].mean())\n",
    "        else:\n",
    "            Mileage_missing.append(data_test[(data_test.Engine_cleaned.between(j.Engine_cleaned-100,j.Engine_cleaned+100))]['Mileage_cleaned'].mean())\n",
    "    else:\n",
    "        if j.Power_cleaned!=0:\n",
    "            Mileage_missing.append(data_test[(data_test.Power_cleaned.between(j.Power_cleaned-50,j.Power_cleaned+50))]['Mileage_cleaned'].mean())\n",
    "        else:\n",
    "            Mileage_missing.append(0)"
   ]
  },
  {
   "cell_type": "code",
   "execution_count": 29,
   "metadata": {},
   "outputs": [],
   "source": [
    "j=0\n",
    "for i in data_test[(data_test['Mileage_cleaned']==0)]['Mileage_cleaned'].index.tolist():\n",
    "    data_test['Mileage_cleaned'].iloc[i]=Mileage_missing[j]\n",
    "    j+=1"
   ]
  },
  {
   "cell_type": "code",
   "execution_count": 30,
   "metadata": {},
   "outputs": [
    {
     "name": "stderr",
     "output_type": "stream",
     "text": [
      "C:\\Users\\LENOVO\\Anaconda3\\lib\\site-packages\\ipykernel_launcher.py:1: SettingWithCopyWarning: \n",
      "A value is trying to be set on a copy of a slice from a DataFrame\n",
      "\n",
      "See the caveats in the documentation: http://pandas.pydata.org/pandas-docs/stable/indexing.html#indexing-view-versus-copy\n",
      "  \"\"\"Entry point for launching an IPython kernel.\n"
     ]
    }
   ],
   "source": [
    "data_test.Mileage_cleaned[data_test.Mileage_cleaned == 0] = data_test['Mileage_cleaned'].mean()"
   ]
  },
  {
   "cell_type": "code",
   "execution_count": 31,
   "metadata": {},
   "outputs": [
    {
     "name": "stdout",
     "output_type": "stream",
     "text": [
      "Engine  Has Null values count :  10\n",
      "Power  Has Null values count :  10\n",
      "Seats  Has Null values count :  11\n",
      "New_Price  Has Null values count :  1052\n"
     ]
    }
   ],
   "source": [
    "for i in data_test.columns:\n",
    "    if len(data_test[data_test[i].isnull()].index)>0:\n",
    "        print(i,' Has Null values count : ',len(data_test[data_test[i].isnull()].index))"
   ]
  },
  {
   "cell_type": "code",
   "execution_count": 32,
   "metadata": {},
   "outputs": [],
   "source": [
    "P_M = data_test[(data_test['Fuel_Type']=='Petrol') & (data_test['Transmission']=='Manual')].Engine_cleaned.mean()\n",
    "D_M = data_test[(data_test['Fuel_Type']=='Diesel') & (data_test['Transmission']=='Manual')].Engine_cleaned.mean()\n",
    "D_A = data_test[(data_test['Fuel_Type']=='Diesel') & (data_test['Transmission']=='Automatic')].Engine_cleaned.mean()\n",
    "P_A = data_test[(data_test['Fuel_Type']=='Petrol') & (data_test['Transmission']=='Automatic')].Engine_cleaned.mean()\n",
    "\n",
    "data_test.Engine_cleaned.loc[(data_test['Fuel_Type']=='Petrol') & (data_test['Transmission']=='Manual') & (data_test['Engine_cleaned']==0)] = P_M\n",
    "data_test.Engine_cleaned.loc[(data_test['Fuel_Type']=='Diesel') & (data_test['Transmission']=='Manual') & (data_test['Engine_cleaned']==0)] = D_M\n",
    "data_test.Engine_cleaned.loc[(data_test['Fuel_Type']=='Diesel') & (data_test['Transmission']=='Automatic') & (data_test['Engine_cleaned']==0)] = D_A\n",
    "data_test.Engine_cleaned.loc[(data_test['Fuel_Type']=='Petrol') & (data_test['Transmission']=='Automatic') & (data_test['Engine_cleaned']==0)] = P_A"
   ]
  },
  {
   "cell_type": "code",
   "execution_count": 33,
   "metadata": {},
   "outputs": [],
   "source": [
    "Power_missing=[]\n",
    "for i,j in data_test[(data_test['Power_cleaned']==0)].iterrows():\n",
    "    Power_missing.append(data_test[(data_test.Mileage_cleaned.between(j.Mileage_cleaned-20,j.Mileage_cleaned+20)) \n",
    "                                      & (data_test.Engine_cleaned.between(j.Engine_cleaned-200,j.Engine_cleaned+200))]\n",
    "                           ['Power_cleaned'].mean())"
   ]
  },
  {
   "cell_type": "code",
   "execution_count": 34,
   "metadata": {},
   "outputs": [],
   "source": [
    "j=0\n",
    "for i in data_test[(data_test['Power_cleaned']==0)]['Power_cleaned'].index.tolist():\n",
    "    data_test['Power_cleaned'].iloc[i]=Power_missing[j]\n",
    "    j+=1"
   ]
  },
  {
   "cell_type": "code",
   "execution_count": 35,
   "metadata": {},
   "outputs": [],
   "source": [
    "seats_missing=[]\n",
    "for i,j in data_test[(data_test.Seats.isnull()) | (data_test.Seats== 0)].iterrows():\n",
    "    #data_train[data_train['Name'].str.match('Maruti Swift')]\n",
    "    seats_missing.append(round(data_test[data_test['Name'].str.match(\" \".join((j['Name'].split()[0],j['Name'].split()[1])))]['Seats'].mean()))\n",
    "    #print(\" \".join((j['Name'].split()[0],j['Name'].split()[1])))"
   ]
  },
  {
   "cell_type": "code",
   "execution_count": 36,
   "metadata": {},
   "outputs": [],
   "source": [
    "j=0\n",
    "for i in data_test[(data_test.Seats.isnull()) | (data_test.Seats== 0)].index.tolist():\n",
    "    data_test['Seats'].iloc[i]=seats_missing[j]\n",
    "    j+=1"
   ]
  },
  {
   "cell_type": "code",
   "execution_count": 37,
   "metadata": {},
   "outputs": [
    {
     "name": "stderr",
     "output_type": "stream",
     "text": [
      "C:\\Users\\LENOVO\\Anaconda3\\lib\\site-packages\\ipykernel_launcher.py:1: SettingWithCopyWarning: \n",
      "A value is trying to be set on a copy of a slice from a DataFrame\n",
      "\n",
      "See the caveats in the documentation: http://pandas.pydata.org/pandas-docs/stable/indexing.html#indexing-view-versus-copy\n",
      "  \"\"\"Entry point for launching an IPython kernel.\n"
     ]
    }
   ],
   "source": [
    "data_test.Seats[data_test.Seats == 0] = data_test['Seats'].mean()"
   ]
  },
  {
   "cell_type": "code",
   "execution_count": 38,
   "metadata": {},
   "outputs": [],
   "source": [
    "data_test.to_pickle('data_test_after_cleanup')"
   ]
  }
 ],
 "metadata": {
  "kernelspec": {
   "display_name": "Python 3",
   "language": "python",
   "name": "python3"
  },
  "language_info": {
   "codemirror_mode": {
    "name": "ipython",
    "version": 3
   },
   "file_extension": ".py",
   "mimetype": "text/x-python",
   "name": "python",
   "nbconvert_exporter": "python",
   "pygments_lexer": "ipython3",
   "version": "3.7.3"
  }
 },
 "nbformat": 4,
 "nbformat_minor": 2
}
